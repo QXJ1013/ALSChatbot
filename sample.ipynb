{
 "cells": [
  {
   "cell_type": "code",
   "execution_count": null,
   "metadata": {},
   "outputs": [
    {
     "ename": "",
     "evalue": "",
     "output_type": "error",
     "traceback": [
      "\u001b[1;31mRunning cells with 'comp0197_tf (Python 3.11.11)' requires the ipykernel package.\n",
      "\u001b[1;31mRun the following command to install 'ipykernel' into the Python environment. \n",
      "\u001b[1;31mCommand: 'conda install -n comp0197_tf ipykernel --update-deps --force-reinstall'"
     ]
    }
   ],
   "source": [
    "from simple_chat import SimpleChatEngine\n",
    "\n",
    "# Initialize engine\n",
    "engine = SimpleChatEngine()\n",
    "\n",
    "# Send a message\n",
    "result = engine.chat(user_id=\"test_user_001\", message=\"Hello, I need some help with eating.\")\n",
    "print(\"Assistant:\", result[\"response\"])\n",
    "print(\"Chat ID:\", result[\"chat_id\"])\n",
    "\n",
    "# Continue the conversation\n",
    "result2 = engine.chat(user_id=\"test_user_001\", message=\"What can I do to eat better?\", chat_id=result[\"chat_id\"])\n",
    "print(\"Assistant:\", result2[\"response\"])\n",
    "\n",
    "# Retrieve chat history\n",
    "history = engine.get_history(chat_id=result[\"chat_id\"])\n",
    "for role, msg, ts in history:\n",
    "    print(f\"[{ts}] {role}: {msg}\")\n"
   ]
  }
 ],
 "metadata": {
  "kernelspec": {
   "display_name": "comp0197_tf",
   "language": "python",
   "name": "python3"
  },
  "language_info": {
   "name": "python",
   "version": "3.11.11"
  }
 },
 "nbformat": 4,
 "nbformat_minor": 2
}
